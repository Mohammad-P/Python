{
  "nbformat": 4,
  "nbformat_minor": 0,
  "metadata": {
    "colab": {
      "name": "Copy of Simple Machine Learning Code - Cross Validation",
      "provenance": [],
      "collapsed_sections": [],
      "toc_visible": true
    },
    "kernelspec": {
      "name": "python3",
      "display_name": "Python 3"
    }
  },
  "cells": [
    {
      "cell_type": "markdown",
      "metadata": {
        "id": "QKaaiBig5vRF"
      },
      "source": [
        "# SIMPLE MACHINE LEARNING CODE BY CROSS VALIDATION\n",
        "This is a simple quick machine learning python code to run on the iris dataset from [UCI Repository](https://archive.ics.uci.edu/ml/datasets/iris)"
      ]
    },
    {
      "cell_type": "code",
      "metadata": {
        "id": "IuIMmlXf6eVU"
      },
      "source": [
        "# IMPORT REQUIRED LIBRARY\n",
        "import requests\n",
        "import pandas as pd\n",
        "import matplotlib.pyplot as plt\n",
        "import numpy as np\n",
        "import random"
      ],
      "execution_count": null,
      "outputs": []
    },
    {
      "cell_type": "markdown",
      "metadata": {
        "id": "aRWr_1Qc6Nmf"
      },
      "source": [
        "## 1.0 LOAD DATASET\n",
        "Following code will download the dataset from UCI repository and save the dataset as \"iris.data\". "
      ]
    },
    {
      "cell_type": "code",
      "metadata": {
        "id": "7I_C2RpBimUB"
      },
      "source": [
        "# DOWNLOAD FILE FUNCTION\n",
        "def download_dataset(url, filename):\n",
        "  r = requests.get(url)\n",
        "  with open(filename, 'wb') as f:\n",
        "    f.write(r.content)\n",
        "\n",
        "# DOWNLOAD FILE FROM URL\n",
        "url = \"https://archive.ics.uci.edu/ml/machine-learning-databases/iris/iris.data\"\n",
        "dataset_filename='iris.data'\n",
        "download_dataset(url, 'iris.data')\n",
        "\n",
        "# LOAD THE DOWNLOADED FILE BY FILE NAME\n",
        "# MANUALLY ASSIGN THE COLUMN NAMES\n",
        "df = pd.read_csv(dataset_filename, sep=\",\", \n",
        "                 names= [\"sepal_lengt\", \"sepal_width\", \"petal_length\", \"petal_width\", \"class\"])"
      ],
      "execution_count": null,
      "outputs": []
    },
    {
      "cell_type": "markdown",
      "metadata": {
        "id": "9kqjPclT7Ofm"
      },
      "source": [
        "## 2.0 UNDERSTANDING DATASET\n",
        "Following code will download the dataset from UCI repository and save the dataset as \"iris.data\". "
      ]
    },
    {
      "cell_type": "code",
      "metadata": {
        "id": "Qxn0E6tDrFLX",
        "outputId": "53444f63-98e8-4f90-bb63-6d7ee0d8ba38",
        "colab": {
          "base_uri": "https://localhost:8080/"
        }
      },
      "source": [
        "# DATASET INFORMATION\n",
        "df.info()"
      ],
      "execution_count": null,
      "outputs": [
        {
          "output_type": "stream",
          "text": [
            "<class 'pandas.core.frame.DataFrame'>\n",
            "RangeIndex: 150 entries, 0 to 149\n",
            "Data columns (total 5 columns):\n",
            " #   Column        Non-Null Count  Dtype  \n",
            "---  ------        --------------  -----  \n",
            " 0   sepal_lengt   150 non-null    float64\n",
            " 1   sepal_width   150 non-null    float64\n",
            " 2   petal_length  150 non-null    float64\n",
            " 3   petal_width   150 non-null    float64\n",
            " 4   class         150 non-null    object \n",
            "dtypes: float64(4), object(1)\n",
            "memory usage: 6.0+ KB\n"
          ],
          "name": "stdout"
        }
      ]
    },
    {
      "cell_type": "code",
      "metadata": {
        "id": "BhP8v9Hc6_6g",
        "outputId": "c7f0eb76-27cd-4f08-d6cb-d04242a759b6",
        "colab": {
          "base_uri": "https://localhost:8080/",
          "height": 297
        }
      },
      "source": [
        "# DESCRIBE DATASET\n",
        "df.describe()"
      ],
      "execution_count": null,
      "outputs": [
        {
          "output_type": "execute_result",
          "data": {
            "text/html": [
              "<div>\n",
              "<style scoped>\n",
              "    .dataframe tbody tr th:only-of-type {\n",
              "        vertical-align: middle;\n",
              "    }\n",
              "\n",
              "    .dataframe tbody tr th {\n",
              "        vertical-align: top;\n",
              "    }\n",
              "\n",
              "    .dataframe thead th {\n",
              "        text-align: right;\n",
              "    }\n",
              "</style>\n",
              "<table border=\"1\" class=\"dataframe\">\n",
              "  <thead>\n",
              "    <tr style=\"text-align: right;\">\n",
              "      <th></th>\n",
              "      <th>sepal_lengt</th>\n",
              "      <th>sepal_width</th>\n",
              "      <th>petal_length</th>\n",
              "      <th>petal_width</th>\n",
              "    </tr>\n",
              "  </thead>\n",
              "  <tbody>\n",
              "    <tr>\n",
              "      <th>count</th>\n",
              "      <td>150.000000</td>\n",
              "      <td>150.000000</td>\n",
              "      <td>150.000000</td>\n",
              "      <td>150.000000</td>\n",
              "    </tr>\n",
              "    <tr>\n",
              "      <th>mean</th>\n",
              "      <td>5.843333</td>\n",
              "      <td>3.054000</td>\n",
              "      <td>3.758667</td>\n",
              "      <td>1.198667</td>\n",
              "    </tr>\n",
              "    <tr>\n",
              "      <th>std</th>\n",
              "      <td>0.828066</td>\n",
              "      <td>0.433594</td>\n",
              "      <td>1.764420</td>\n",
              "      <td>0.763161</td>\n",
              "    </tr>\n",
              "    <tr>\n",
              "      <th>min</th>\n",
              "      <td>4.300000</td>\n",
              "      <td>2.000000</td>\n",
              "      <td>1.000000</td>\n",
              "      <td>0.100000</td>\n",
              "    </tr>\n",
              "    <tr>\n",
              "      <th>25%</th>\n",
              "      <td>5.100000</td>\n",
              "      <td>2.800000</td>\n",
              "      <td>1.600000</td>\n",
              "      <td>0.300000</td>\n",
              "    </tr>\n",
              "    <tr>\n",
              "      <th>50%</th>\n",
              "      <td>5.800000</td>\n",
              "      <td>3.000000</td>\n",
              "      <td>4.350000</td>\n",
              "      <td>1.300000</td>\n",
              "    </tr>\n",
              "    <tr>\n",
              "      <th>75%</th>\n",
              "      <td>6.400000</td>\n",
              "      <td>3.300000</td>\n",
              "      <td>5.100000</td>\n",
              "      <td>1.800000</td>\n",
              "    </tr>\n",
              "    <tr>\n",
              "      <th>max</th>\n",
              "      <td>7.900000</td>\n",
              "      <td>4.400000</td>\n",
              "      <td>6.900000</td>\n",
              "      <td>2.500000</td>\n",
              "    </tr>\n",
              "  </tbody>\n",
              "</table>\n",
              "</div>"
            ],
            "text/plain": [
              "       sepal_lengt  sepal_width  petal_length  petal_width\n",
              "count   150.000000   150.000000    150.000000   150.000000\n",
              "mean      5.843333     3.054000      3.758667     1.198667\n",
              "std       0.828066     0.433594      1.764420     0.763161\n",
              "min       4.300000     2.000000      1.000000     0.100000\n",
              "25%       5.100000     2.800000      1.600000     0.300000\n",
              "50%       5.800000     3.000000      4.350000     1.300000\n",
              "75%       6.400000     3.300000      5.100000     1.800000\n",
              "max       7.900000     4.400000      6.900000     2.500000"
            ]
          },
          "metadata": {
            "tags": []
          },
          "execution_count": 4
        }
      ]
    },
    {
      "cell_type": "code",
      "metadata": {
        "id": "_hL2DcXe7H3W",
        "outputId": "ee9e6e6b-ee64-464a-8f39-0843b836e967",
        "colab": {
          "base_uri": "https://localhost:8080/",
          "height": 359
        }
      },
      "source": [
        "# SHOW FIRST 10 INSTANCES\n",
        "df.head(10)"
      ],
      "execution_count": null,
      "outputs": [
        {
          "output_type": "execute_result",
          "data": {
            "text/html": [
              "<div>\n",
              "<style scoped>\n",
              "    .dataframe tbody tr th:only-of-type {\n",
              "        vertical-align: middle;\n",
              "    }\n",
              "\n",
              "    .dataframe tbody tr th {\n",
              "        vertical-align: top;\n",
              "    }\n",
              "\n",
              "    .dataframe thead th {\n",
              "        text-align: right;\n",
              "    }\n",
              "</style>\n",
              "<table border=\"1\" class=\"dataframe\">\n",
              "  <thead>\n",
              "    <tr style=\"text-align: right;\">\n",
              "      <th></th>\n",
              "      <th>sepal_lengt</th>\n",
              "      <th>sepal_width</th>\n",
              "      <th>petal_length</th>\n",
              "      <th>petal_width</th>\n",
              "      <th>class</th>\n",
              "    </tr>\n",
              "  </thead>\n",
              "  <tbody>\n",
              "    <tr>\n",
              "      <th>0</th>\n",
              "      <td>5.1</td>\n",
              "      <td>3.5</td>\n",
              "      <td>1.4</td>\n",
              "      <td>0.2</td>\n",
              "      <td>Iris-setosa</td>\n",
              "    </tr>\n",
              "    <tr>\n",
              "      <th>1</th>\n",
              "      <td>4.9</td>\n",
              "      <td>3.0</td>\n",
              "      <td>1.4</td>\n",
              "      <td>0.2</td>\n",
              "      <td>Iris-setosa</td>\n",
              "    </tr>\n",
              "    <tr>\n",
              "      <th>2</th>\n",
              "      <td>4.7</td>\n",
              "      <td>3.2</td>\n",
              "      <td>1.3</td>\n",
              "      <td>0.2</td>\n",
              "      <td>Iris-setosa</td>\n",
              "    </tr>\n",
              "    <tr>\n",
              "      <th>3</th>\n",
              "      <td>4.6</td>\n",
              "      <td>3.1</td>\n",
              "      <td>1.5</td>\n",
              "      <td>0.2</td>\n",
              "      <td>Iris-setosa</td>\n",
              "    </tr>\n",
              "    <tr>\n",
              "      <th>4</th>\n",
              "      <td>5.0</td>\n",
              "      <td>3.6</td>\n",
              "      <td>1.4</td>\n",
              "      <td>0.2</td>\n",
              "      <td>Iris-setosa</td>\n",
              "    </tr>\n",
              "    <tr>\n",
              "      <th>5</th>\n",
              "      <td>5.4</td>\n",
              "      <td>3.9</td>\n",
              "      <td>1.7</td>\n",
              "      <td>0.4</td>\n",
              "      <td>Iris-setosa</td>\n",
              "    </tr>\n",
              "    <tr>\n",
              "      <th>6</th>\n",
              "      <td>4.6</td>\n",
              "      <td>3.4</td>\n",
              "      <td>1.4</td>\n",
              "      <td>0.3</td>\n",
              "      <td>Iris-setosa</td>\n",
              "    </tr>\n",
              "    <tr>\n",
              "      <th>7</th>\n",
              "      <td>5.0</td>\n",
              "      <td>3.4</td>\n",
              "      <td>1.5</td>\n",
              "      <td>0.2</td>\n",
              "      <td>Iris-setosa</td>\n",
              "    </tr>\n",
              "    <tr>\n",
              "      <th>8</th>\n",
              "      <td>4.4</td>\n",
              "      <td>2.9</td>\n",
              "      <td>1.4</td>\n",
              "      <td>0.2</td>\n",
              "      <td>Iris-setosa</td>\n",
              "    </tr>\n",
              "    <tr>\n",
              "      <th>9</th>\n",
              "      <td>4.9</td>\n",
              "      <td>3.1</td>\n",
              "      <td>1.5</td>\n",
              "      <td>0.1</td>\n",
              "      <td>Iris-setosa</td>\n",
              "    </tr>\n",
              "  </tbody>\n",
              "</table>\n",
              "</div>"
            ],
            "text/plain": [
              "   sepal_lengt  sepal_width  petal_length  petal_width        class\n",
              "0          5.1          3.5           1.4          0.2  Iris-setosa\n",
              "1          4.9          3.0           1.4          0.2  Iris-setosa\n",
              "2          4.7          3.2           1.3          0.2  Iris-setosa\n",
              "3          4.6          3.1           1.5          0.2  Iris-setosa\n",
              "4          5.0          3.6           1.4          0.2  Iris-setosa\n",
              "5          5.4          3.9           1.7          0.4  Iris-setosa\n",
              "6          4.6          3.4           1.4          0.3  Iris-setosa\n",
              "7          5.0          3.4           1.5          0.2  Iris-setosa\n",
              "8          4.4          2.9           1.4          0.2  Iris-setosa\n",
              "9          4.9          3.1           1.5          0.1  Iris-setosa"
            ]
          },
          "metadata": {
            "tags": []
          },
          "execution_count": 5
        }
      ]
    },
    {
      "cell_type": "markdown",
      "metadata": {
        "id": "ii5ceSh67fEG"
      },
      "source": [
        "## 3.0 PREPARE TRAINING AND TESTING DATASET\n",
        "Following code will download the dataset from UCI repository and save the dataset as \"iris.data\". \n",
        "\n",
        "### 3.1 IMPORT LIBRARIES\n",
        "In this sample code, we will be using [sklearn](https://scikit-learn.org/)"
      ]
    },
    {
      "cell_type": "code",
      "metadata": {
        "id": "o0nn6Uw9m67n"
      },
      "source": [
        "from sklearn.metrics import accuracy_score, f1_score, precision_score, recall_score\n",
        "from sklearn import datasets\n",
        "from sklearn.metrics import plot_confusion_matrix\n",
        "from sklearn.model_selection import RepeatedKFold"
      ],
      "execution_count": null,
      "outputs": []
    },
    {
      "cell_type": "markdown",
      "metadata": {
        "id": "xRB9hlNQ8sSB"
      },
      "source": [
        "### 3.2 SPLIT FEATURES AND CLASS\n",
        "- \"y\" is the class column\n",
        "- \"X\" is the all features columns"
      ]
    },
    {
      "cell_type": "code",
      "metadata": {
        "id": "6vpqsHHPRZh9",
        "outputId": "48c4bd2a-b5a6-406a-d2cd-ad242a67c968",
        "colab": {
          "base_uri": "https://localhost:8080/"
        }
      },
      "source": [
        "y = df.loc[:, [\"class\"]].values\n",
        "X = df.loc[:, [\"sepal_lengt\", \"sepal_width\", \"petal_length\", \"petal_width\"]].values\n",
        "\n",
        "print(\"Number of Row in X (Class): {}\".format(len(X)))\n",
        "print(\"Number of Row in y (Features): {}\".format(len(y)))"
      ],
      "execution_count": null,
      "outputs": [
        {
          "output_type": "stream",
          "text": [
            "Number of Row in X (Class): 150\n",
            "Number of Row in y (Features): 150\n"
          ],
          "name": "stdout"
        }
      ]
    },
    {
      "cell_type": "markdown",
      "metadata": {
        "id": "fv_CEtC9_eME"
      },
      "source": [
        "### SETUP CROSS VALIDATION (Repeat k Fold)\n",
        "You can refer to this [Sklearn page](https://scikit-learn.org/stable/modules/generated/sklearn.model_selection.RepeatedKFold.html) about the configuration"
      ]
    },
    {
      "cell_type": "code",
      "metadata": {
        "id": "1_jiNhl8-_CI"
      },
      "source": [
        "random_state = random.randint(100000,999999)\n",
        "rkf = RepeatedKFold(n_splits=2, n_repeats=2, random_state=random_state)"
      ],
      "execution_count": null,
      "outputs": []
    },
    {
      "cell_type": "code",
      "metadata": {
        "id": "o714_HrfrVu5"
      },
      "source": [
        "def generate_confusion_matrix(name, clf, X, y):\n",
        "  \n",
        "  class_names = df[\"class\"].unique()\n",
        "  \n",
        "  disp = plot_confusion_matrix(clf, X, y, display_labels=class_names,\n",
        "                                 cmap=plt.cm.Blues)\n",
        "\n",
        "  #plt.title(\"Confusion matrix of {} {}\".format(wordvectorname, name))\n",
        "  img_file_name = \"{}_confusion_matrix.png\".format(name)\n",
        "  plt.savefig(img_file_name.lower())\n",
        "  plt.show()\n",
        "\n",
        "\n",
        "def run_ML(model_name, clf, X, y, rkf, df):\n",
        "\n",
        "  # TRAIN THE MODEL BY USING K-FLOD\n",
        "  for train_index, test_index in rkf.split(df):\n",
        "\n",
        "    # SPLIT TRAINING AND TESTING SET FOR FEATURE\n",
        "    X_train, X_test = X[train_index], X[test_index]\n",
        "\n",
        "    # SPLIT TRAINING AND TESTING SET FOR CLASS\n",
        "    y_train, y_test = y[train_index], y[test_index]\n",
        "    clf.fit(X_train, y_train.ravel())\n",
        "\n",
        "  # USE THE TRAINED MODEL TO PREDICT THE ENTIRE X\n",
        "  y_pred = clf.predict(X)\n",
        "\n",
        "  print(\"-----------------------------\")\n",
        "  print(\"- \" + model_name)\n",
        "  print(\"-----------------------------\")\n",
        "  print('Accuracy: {}'.format(round(accuracy_score(y, y_pred), 4)))\n",
        "  print('F1 score: {}'.format(round(f1_score(y, y_pred, average='macro'), 4)))\n",
        "  print('Precision score: {}'.format(round(precision_score(y, y_pred, average='macro'), 4)))\n",
        "  print('Recall score: {} \\n'.format(round(recall_score(y, y_pred, average='macro'), 4)))\n",
        "\n",
        "  generate_confusion_matrix(model_name, clf, X, y)\n"
      ],
      "execution_count": null,
      "outputs": []
    },
    {
      "cell_type": "markdown",
      "metadata": {
        "id": "bqZFMshmFcqp"
      },
      "source": [
        "## 4.0 Run Machine Learning\n",
        "\n",
        "### 4.1 Naive Bayes\n",
        "Please refer to [Sklearn Naive Bayes](https://scikit-learn.org/stable/modules/classes.html#module-sklearn.naive_bayes) for more model setup. In following example will be using GaussianNB."
      ]
    },
    {
      "cell_type": "code",
      "metadata": {
        "id": "MVJH-RYl_8Xa",
        "outputId": "c3bc1b6e-b53d-4ca1-a9a2-79bd5f67c097",
        "colab": {
          "base_uri": "https://localhost:8080/",
          "height": 419
        }
      },
      "source": [
        "from sklearn.naive_bayes import GaussianNB, CategoricalNB, BernoulliNB\n",
        "\n",
        "# INITIATE ML MODEL\n",
        "clf = CategoricalNB()\n",
        "\n",
        "run_ML(\"CategoricalNB\", clf, X, y, rkf, df)"
      ],
      "execution_count": null,
      "outputs": [
        {
          "output_type": "stream",
          "text": [
            "-----------------------------\n",
            "- CategoricalNB\n",
            "-----------------------------\n",
            "Accuracy: 0.9333\n",
            "F1 score: 0.9331\n",
            "Precision score: 0.9372\n",
            "Recall score: 0.9333 \n",
            "\n"
          ],
          "name": "stdout"
        },
        {
          "output_type": "display_data",
          "data": {
            "image/png": "[encoded data removed]",
            "text/plain": [
              "<Figure size 432x288 with 2 Axes>"
            ]
          },
          "metadata": {
            "tags": [],
            "needs_background": "light"
          }
        }
      ]
    },
    {
      "cell_type": "markdown",
      "metadata": {
        "id": "i4jXMagFLNgQ"
      },
      "source": [
        "### 4.2 Random Forest\n",
        "Please refer to [Sklearn Random Forest](https://scikit-learn.org/stable/modules/generated/sklearn.ensemble.RandomForestClassifier.html?highlight=random%20forest#sklearn.ensemble.RandomForestClassifier) for more model setup"
      ]
    },
    {
      "cell_type": "code",
      "metadata": {
        "id": "7giO38CrLM14",
        "outputId": "6a1ca051-0a6a-4d1a-c2c0-c7663a578c0b",
        "colab": {
          "base_uri": "https://localhost:8080/",
          "height": 419
        }
      },
      "source": [
        "from sklearn.ensemble import RandomForestClassifier\n",
        "\n",
        "# INITIATE ML MODEL\n",
        "clf = RandomForestClassifier(max_depth=2, random_state=0)\n",
        "\n",
        "run_ML(\"RandomForestClassifier\", clf, X, y, rkf, df)"
      ],
      "execution_count": null,
      "outputs": [
        {
          "output_type": "stream",
          "text": [
            "-----------------------------\n",
            "- RandomForestClassifier\n",
            "-----------------------------\n",
            "Accuracy: 0.9667\n",
            "F1 score: 0.9666\n",
            "Precision score: 0.9678\n",
            "Recall score: 0.9667 \n",
            "\n"
          ],
          "name": "stdout"
        },
        {
          "output_type": "display_data",
          "data": {
            "image/png": "[encoded data removed]",
            "text/plain": [
              "<Figure size 432x288 with 2 Axes>"
            ]
          },
          "metadata": {
            "tags": [],
            "needs_background": "light"
          }
        }
      ]
    },
    {
      "cell_type": "markdown",
      "metadata": {
        "id": "hvZj2lWGLn4Q"
      },
      "source": [
        "### 4.3 Logistic Regression\n",
        "Please refer to [Sklearn Logistic](https://scikit-learn.org/stable/modules/generated/sklearn.linear_model.LogisticRegression.html?highlight=logistic#sklearn.linear_model.LogisticRegression) for more model setup."
      ]
    },
    {
      "cell_type": "code",
      "metadata": {
        "id": "phWge34rLljn",
        "outputId": "1c9ce91d-9707-46b2-b6ef-cd7e7f06ce8c",
        "colab": {
          "base_uri": "https://localhost:8080/",
          "height": 419
        }
      },
      "source": [
        "from sklearn.linear_model import LogisticRegression\n",
        "\n",
        "# INITIATE ML MODEL\n",
        "clf = LogisticRegression(random_state=0, max_iter=150)\n",
        "\n",
        "run_ML(\"LogisticRegression\", clf, X, y, rkf, df)"
      ],
      "execution_count": null,
      "outputs": [
        {
          "output_type": "stream",
          "text": [
            "-----------------------------\n",
            "- LogisticRegression\n",
            "-----------------------------\n",
            "Accuracy: 0.9667\n",
            "F1 score: 0.9667\n",
            "Precision score: 0.9668\n",
            "Recall score: 0.9667 \n",
            "\n"
          ],
          "name": "stdout"
        },
        {
          "output_type": "display_data",
          "data": {
            "image/png": "[encoded data removed]",
            "text/plain": [
              "<Figure size 432x288 with 2 Axes>"
            ]
          },
          "metadata": {
            "tags": [],
            "needs_background": "light"
          }
        }
      ]
    },
    {
      "cell_type": "markdown",
      "metadata": {
        "id": "qhfKiIusOiYY"
      },
      "source": [
        "### 4.4 SVM\n",
        "Please refer to [Sklearn SVM (Linear)](https://scikit-learn.org/stable/modules/generated/sklearn.svm.LinearSVC.html#sklearn.svm.LinearSVCR) for more model setup."
      ]
    },
    {
      "cell_type": "code",
      "metadata": {
        "id": "cMgzbjDMN4Wx",
        "outputId": "daac779d-f143-46ee-abbe-edf1bb3f7dd3",
        "colab": {
          "base_uri": "https://localhost:8080/",
          "height": 419
        }
      },
      "source": [
        "from sklearn.svm import LinearSVC\n",
        "\n",
        "# INITIATE ML MODEL\n",
        "clf = LinearSVC(random_state=0, max_iter=4000)\n",
        "\n",
        "run_ML(\"LinearSVC\", clf, X, y, rkf, df)"
      ],
      "execution_count": null,
      "outputs": [
        {
          "output_type": "stream",
          "text": [
            "-----------------------------\n",
            "- LinearSVC\n",
            "-----------------------------\n",
            "Accuracy: 0.9733\n",
            "F1 score: 0.9733\n",
            "Precision score: 0.9753\n",
            "Recall score: 0.9733 \n",
            "\n"
          ],
          "name": "stdout"
        },
        {
          "output_type": "display_data",
          "data": {
            "image/png": "[encoded data removed]",
            "text/plain": [
              "<Figure size 432x288 with 2 Axes>"
            ]
          },
          "metadata": {
            "tags": [],
            "needs_background": "light"
          }
        }
      ]
    }
  ]
}